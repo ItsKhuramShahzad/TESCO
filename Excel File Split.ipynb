{
 "cells": [
  {
   "cell_type": "code",
   "execution_count": null,
   "id": "2918eb40",
   "metadata": {},
   "outputs": [],
   "source": []
  },
  {
   "cell_type": "code",
   "execution_count": null,
   "id": "cb3d6035",
   "metadata": {},
   "outputs": [],
   "source": []
  },
  {
   "cell_type": "code",
   "execution_count": 8,
   "id": "0128a6ce",
   "metadata": {},
   "outputs": [
    {
     "name": "stdout",
     "output_type": "stream",
     "text": [
      "Saved 10000 rows from sheet 'BAJAUR' to 'C:\\Users\\ks834\\NORTHERN/BAJAUR_part_1.xlsx'\n",
      "Saved 10000 rows from sheet 'BAJAUR' to 'C:\\Users\\ks834\\NORTHERN/BAJAUR_part_2.xlsx'\n",
      "Saved 10000 rows from sheet 'BAJAUR' to 'C:\\Users\\ks834\\NORTHERN/BAJAUR_part_3.xlsx'\n",
      "Saved 10000 rows from sheet 'BAJAUR' to 'C:\\Users\\ks834\\NORTHERN/BAJAUR_part_4.xlsx'\n",
      "Saved 10000 rows from sheet 'BAJAUR' to 'C:\\Users\\ks834\\NORTHERN/BAJAUR_part_5.xlsx'\n",
      "Saved 5050 rows from sheet 'BAJAUR' to 'C:\\Users\\ks834\\NORTHERN/BAJAUR_part_6.xlsx'\n",
      "Saved 10000 rows from sheet 'NAWAGAI' to 'C:\\Users\\ks834\\NORTHERN/NAWAGAI_part_1.xlsx'\n",
      "Saved 10000 rows from sheet 'NAWAGAI' to 'C:\\Users\\ks834\\NORTHERN/NAWAGAI_part_2.xlsx'\n",
      "Saved 7133 rows from sheet 'NAWAGAI' to 'C:\\Users\\ks834\\NORTHERN/NAWAGAI_part_3.xlsx'\n",
      "Saved 10000 rows from sheet 'GHALLANAI' to 'C:\\Users\\ks834\\NORTHERN/GHALLANAI_part_1.xlsx'\n",
      "Saved 10000 rows from sheet 'GHALLANAI' to 'C:\\Users\\ks834\\NORTHERN/GHALLANAI_part_2.xlsx'\n",
      "Saved 10000 rows from sheet 'GHALLANAI' to 'C:\\Users\\ks834\\NORTHERN/GHALLANAI_part_3.xlsx'\n",
      "Saved 10000 rows from sheet 'GHALLANAI' to 'C:\\Users\\ks834\\NORTHERN/GHALLANAI_part_4.xlsx'\n",
      "Saved 10000 rows from sheet 'GHALLANAI' to 'C:\\Users\\ks834\\NORTHERN/GHALLANAI_part_5.xlsx'\n",
      "Saved 10000 rows from sheet 'GHALLANAI' to 'C:\\Users\\ks834\\NORTHERN/GHALLANAI_part_6.xlsx'\n",
      "Saved 7887 rows from sheet 'GHALLANAI' to 'C:\\Users\\ks834\\NORTHERN/GHALLANAI_part_7.xlsx'\n",
      "Saved 117 rows from sheet 'PROGRESSIVE' to 'C:\\Users\\ks834\\NORTHERN/PROGRESSIVE_part_1.xlsx'\n"
     ]
    }
   ],
   "source": [
    "import pandas as pd\n",
    "\n",
    "def split_and_save_excel(input_file_path, output_folder, max_rows_per_file=10000):\n",
    "    # Read the Excel file\n",
    "    excel_data = pd.read_excel(input_file_path, sheet_name=None)\n",
    "\n",
    "    for sheet_name, sheet_data in excel_data.items():\n",
    "        # Split the sheet into chunks of max_rows_per_file\n",
    "        chunks = [sheet_data.iloc[i:i+max_rows_per_file] for i in range(0, len(sheet_data), max_rows_per_file)]\n",
    "\n",
    "        # Save each chunk to a separate file\n",
    "        for i, chunk in enumerate(chunks):\n",
    "            output_file_path = f\"{output_folder}/{sheet_name}_part_{i + 1}.xlsx\"\n",
    "            chunk.to_excel(output_file_path, index=False)\n",
    "            print(f\"Saved {len(chunk)} rows from sheet '{sheet_name}' to '{output_file_path}'\")\n",
    "\n",
    "# Example usage\n",
    "input_file_path = 'NORTHERN.xlsx'\n",
    "output_folder = 'C:\\\\Users\\\\ks834\\\\NORTHERN'\n",
    "split_and_save_excel(input_file_path, output_folder)\n"
   ]
  },
  {
   "cell_type": "code",
   "execution_count": null,
   "id": "b579b475",
   "metadata": {},
   "outputs": [],
   "source": []
  },
  {
   "cell_type": "code",
   "execution_count": null,
   "id": "df419bee",
   "metadata": {},
   "outputs": [],
   "source": []
  },
  {
   "cell_type": "code",
   "execution_count": 2,
   "id": "d709566b",
   "metadata": {},
   "outputs": [
    {
     "name": "stdout",
     "output_type": "stream",
     "text": [
      "Saved 10000 rows from sheet 'BARA' to 'C:\\Users\\ks834\\KHYBER DIV/BARA_part_1.xlsx'\n",
      "Saved 10000 rows from sheet 'BARA' to 'C:\\Users\\ks834\\KHYBER DIV/BARA_part_2.xlsx'\n",
      "Saved 10000 rows from sheet 'BARA' to 'C:\\Users\\ks834\\KHYBER DIV/BARA_part_3.xlsx'\n",
      "Saved 10000 rows from sheet 'BARA' to 'C:\\Users\\ks834\\KHYBER DIV/BARA_part_4.xlsx'\n",
      "Saved 9484 rows from sheet 'BARA' to 'C:\\Users\\ks834\\KHYBER DIV/BARA_part_5.xlsx'\n",
      "Saved 10000 rows from sheet 'LANDIKOTAL' to 'C:\\Users\\ks834\\KHYBER DIV/LANDIKOTAL_part_1.xlsx'\n",
      "Saved 10000 rows from sheet 'LANDIKOTAL' to 'C:\\Users\\ks834\\KHYBER DIV/LANDIKOTAL_part_2.xlsx'\n",
      "Saved 10000 rows from sheet 'LANDIKOTAL' to 'C:\\Users\\ks834\\KHYBER DIV/LANDIKOTAL_part_3.xlsx'\n",
      "Saved 10000 rows from sheet 'LANDIKOTAL' to 'C:\\Users\\ks834\\KHYBER DIV/LANDIKOTAL_part_4.xlsx'\n",
      "Saved 2117 rows from sheet 'LANDIKOTAL' to 'C:\\Users\\ks834\\KHYBER DIV/LANDIKOTAL_part_5.xlsx'\n",
      "Saved 10000 rows from sheet 'JAMRUD' to 'C:\\Users\\ks834\\KHYBER DIV/JAMRUD_part_1.xlsx'\n",
      "Saved 10000 rows from sheet 'JAMRUD' to 'C:\\Users\\ks834\\KHYBER DIV/JAMRUD_part_2.xlsx'\n",
      "Saved 10000 rows from sheet 'JAMRUD' to 'C:\\Users\\ks834\\KHYBER DIV/JAMRUD_part_3.xlsx'\n",
      "Saved 10000 rows from sheet 'JAMRUD' to 'C:\\Users\\ks834\\KHYBER DIV/JAMRUD_part_4.xlsx'\n",
      "Saved 10000 rows from sheet 'JAMRUD' to 'C:\\Users\\ks834\\KHYBER DIV/JAMRUD_part_5.xlsx'\n",
      "Saved 190 rows from sheet 'JAMRUD' to 'C:\\Users\\ks834\\KHYBER DIV/JAMRUD_part_6.xlsx'\n"
     ]
    }
   ],
   "source": [
    "import pandas as pd\n",
    "\n",
    "def split_and_save_excel(input_file_path, output_folder, max_rows_per_file=10000):\n",
    "    # Read the Excel file\n",
    "    excel_data = pd.read_excel(input_file_path, sheet_name=None, dtype=str)\n",
    "\n",
    "    for sheet_name, sheet_data in excel_data.items():\n",
    "        # Split the sheet into chunks of max_rows_per_file\n",
    "        chunks = [sheet_data.iloc[i:i+max_rows_per_file] for i in range(0, len(sheet_data), max_rows_per_file)]\n",
    "\n",
    "        # Save each chunk to a separate file\n",
    "        for i, chunk in enumerate(chunks):\n",
    "            output_file_path = f\"{output_folder}/{sheet_name}_part_{i + 1}.xlsx\"\n",
    "            chunk.to_excel(output_file_path, index=False)\n",
    "            print(f\"Saved {len(chunk)} rows from sheet '{sheet_name}' to '{output_file_path}'\")\n",
    "\n",
    "# Example usage\n",
    "input_file_path = 'KHYBER DIV.xlsx'\n",
    "output_folder = 'C:\\\\Users\\\\ks834\\\\KHYBER DIV'\n",
    "split_and_save_excel(input_file_path, output_folder)\n"
   ]
  },
  {
   "cell_type": "code",
   "execution_count": null,
   "id": "9ae03bfe",
   "metadata": {},
   "outputs": [],
   "source": []
  }
 ],
 "metadata": {
  "kernelspec": {
   "display_name": "Python 3 (ipykernel)",
   "language": "python",
   "name": "python3"
  },
  "language_info": {
   "codemirror_mode": {
    "name": "ipython",
    "version": 3
   },
   "file_extension": ".py",
   "mimetype": "text/x-python",
   "name": "python",
   "nbconvert_exporter": "python",
   "pygments_lexer": "ipython3",
   "version": "3.11.5"
  }
 },
 "nbformat": 4,
 "nbformat_minor": 5
}
